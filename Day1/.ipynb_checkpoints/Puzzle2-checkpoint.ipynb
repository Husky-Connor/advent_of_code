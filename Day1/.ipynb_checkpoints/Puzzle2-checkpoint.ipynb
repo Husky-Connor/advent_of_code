{
 "cells": [
  {
   "cell_type": "code",
   "execution_count": 104,
   "metadata": {},
   "outputs": [],
   "source": [
    "using DelimitedFiles"
   ]
  },
  {
   "cell_type": "code",
   "execution_count": 105,
   "metadata": {},
   "outputs": [
    {
     "data": {
      "text/plain": [
       "detect_repeat (generic function with 1 method)"
      ]
     },
     "execution_count": 105,
     "metadata": {},
     "output_type": "execute_result"
    }
   ],
   "source": [
    "function detect_repeat(current_freq, list)\n",
    "    if any(x->x==current_freq, list)\n",
    "        return true\n",
    "    else\n",
    "        append!(list, current_freq)\n",
    "        return false\n",
    "    end\n",
    "end"
   ]
  },
  {
   "cell_type": "code",
   "execution_count": 106,
   "metadata": {},
   "outputs": [
    {
     "data": {
      "text/plain": [
       "find_repeat (generic function with 1 method)"
      ]
     },
     "execution_count": 106,
     "metadata": {},
     "output_type": "execute_result"
    }
   ],
   "source": [
    "function find_repeat(m)\n",
    "    flag = false;\n",
    "    round = 0;\n",
    "    current_freq = 0;\n",
    "    list = []\n",
    "    while !flag\n",
    "        index = round % size(m,1) + 1\n",
    "        current_freq = current_freq + m[index]\n",
    "        flag = detect_repeat(current_freq, list)\n",
    "        round = round + 1\n",
    "    end\n",
    "    print(\"The first frequency hit twice is $current_freq Hz\")\n",
    "end"
   ]
  },
  {
   "cell_type": "code",
   "execution_count": 119,
   "metadata": {},
   "outputs": [],
   "source": [
    "m = readdlm(\"puzzle_1_input.txt\");\n",
    "m = convert(Array{Int64,2}, m);\n",
    "m = reshape(m, 954);"
   ]
  },
  {
   "cell_type": "code",
   "execution_count": 116,
   "metadata": {},
   "outputs": [
    {
     "name": "stdout",
     "output_type": "stream",
     "text": [
      "[3, 3, 4, -2, -4]"
     ]
    }
   ],
   "source": [
    "x = [3, 3, 4, -2, -4];\n",
    "print(x)"
   ]
  },
  {
   "cell_type": "code",
   "execution_count": 117,
   "metadata": {},
   "outputs": [
    {
     "name": "stdout",
     "output_type": "stream",
     "text": [
      "The first frequency hit twice is 10 Hz"
     ]
    }
   ],
   "source": [
    "find_repeat(x);"
   ]
  },
  {
   "cell_type": "code",
   "execution_count": 120,
   "metadata": {},
   "outputs": [
    {
     "ename": "InterruptException",
     "evalue": "InterruptException:",
     "output_type": "error",
     "traceback": [
      "InterruptException:",
      "",
      "Stacktrace:",
      " [1] _any(::getfield(Main, Symbol(\"##11#12\")){Int64}, ::Array{Any,1}, ::Colon) at ./reduce.jl:614",
      " [2] #any#548 at ./reducedim.jl:655 [inlined]",
      " [3] any at ./reducedim.jl:655 [inlined]",
      " [4] detect_repeat at ./In[105]:2 [inlined]",
      " [5] find_repeat(::Array{Int64,1}) at ./In[106]:9",
      " [6] top-level scope at In[120]:1"
     ]
    }
   ],
   "source": [
    "find_repeat(m);"
   ]
  },
  {
   "cell_type": "code",
   "execution_count": null,
   "metadata": {},
   "outputs": [],
   "source": []
  }
 ],
 "metadata": {
  "kernelspec": {
   "display_name": "Julia 1.0.1",
   "language": "julia",
   "name": "julia-1.0"
  },
  "language_info": {
   "file_extension": ".jl",
   "mimetype": "application/julia",
   "name": "julia",
   "version": "1.0.1"
  }
 },
 "nbformat": 4,
 "nbformat_minor": 2
}
