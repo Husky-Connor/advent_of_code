{
 "cells": [
  {
   "cell_type": "code",
   "execution_count": 104,
   "metadata": {},
   "outputs": [],
   "source": [
    "using DelimitedFiles"
   ]
  },
  {
   "cell_type": "code",
   "execution_count": 109,
   "metadata": {},
   "outputs": [
    {
     "data": {
      "text/plain": [
       "detect (generic function with 1 method)"
      ]
     },
     "execution_count": 109,
     "metadata": {},
     "output_type": "execute_result"
    }
   ],
   "source": [
    "# Find dupes and/or trips\n",
    "function detect(id)\n",
    "    list = []\n",
    "    dupes = 0\n",
    "    trips = 0\n",
    "    for i = 1:length(id)\n",
    "        append!(list, Int(id[i]))\n",
    "    end\n",
    "    unique_chars = unique(list)\n",
    "    for char in unique_chars\n",
    "        number = count(x->x==char, list)\n",
    "        if number == 2\n",
    "            dupes = 1\n",
    "        elseif number == 3\n",
    "            trips = 1\n",
    "        end\n",
    "    end\n",
    "    return dupes, trips\n",
    "end"
   ]
  },
  {
   "cell_type": "code",
   "execution_count": 184,
   "metadata": {},
   "outputs": [
    {
     "data": {
      "text/plain": [
       "puzzle_1 (generic function with 1 method)"
      ]
     },
     "execution_count": 184,
     "metadata": {},
     "output_type": "execute_result"
    }
   ],
   "source": [
    "# Loop through data set, keep a count of dupes/trips\n",
    "# and delete any ids that have no dupes or trips\n",
    "function puzzle_1(m)\n",
    "    triples = 0;\n",
    "    doubles = 0;\n",
    "    good_boxes = [];\n",
    "    for i = 1:size(m,1)\n",
    "        dupes, trips = detect(m[i]);\n",
    "        if dupes > 0 || trips > 0 \n",
    "            append!(good_boxes, i)\n",
    "        end\n",
    "        doubles += dupes;\n",
    "        triples += trips;\n",
    "    end\n",
    "    checksum = doubles * triples;\n",
    "    print(\"Checksum: $checksum\")\n",
    "\n",
    "    for i = 1:size(m, 1)\n",
    "        if !any(x->x==i, good_boxes)\n",
    "            deleteat!(m, i)\n",
    "        end\n",
    "    end\n",
    "    \n",
    "end"
   ]
  },
  {
   "cell_type": "code",
   "execution_count": 257,
   "metadata": {},
   "outputs": [
    {
     "data": {
      "text/plain": [
       "compare_ids (generic function with 1 method)"
      ]
     },
     "execution_count": 257,
     "metadata": {},
     "output_type": "execute_result"
    }
   ],
   "source": [
    "function compare_ids(id_1, id_2)\n",
    "    errors = []\n",
    "    for i = 1:length(id_1)\n",
    "        if id_1[i] != id_2[i]\n",
    "            append!(errors, i)\n",
    "        end\n",
    "    end\n",
    "    if size(errors, 1) == 1\n",
    "        print(\"CORRECT BOXES\")\n",
    "        print(\"\\nID_1: $id_1, ID_2: $id_2, INDEX: \", errors[1])\n",
    "        answer = id_1[1:(errors[1]-1)] * id_1[(errors[1]+1):length(id_1)] \n",
    "        print(\"\\nAnswer: $answer\")\n",
    "        return true\n",
    "    else\n",
    "        return false\n",
    "    end\n",
    "end"
   ]
  },
  {
   "cell_type": "code",
   "execution_count": 258,
   "metadata": {},
   "outputs": [
    {
     "data": {
      "text/plain": [
       "puzzle_2 (generic function with 1 method)"
      ]
     },
     "execution_count": 258,
     "metadata": {},
     "output_type": "execute_result"
    }
   ],
   "source": [
    "function puzzle_2(m)\n",
    "    flag = false\n",
    "    for id_1 in m\n",
    "        for id_2 in m\n",
    "            flag = compare_ids(id_1, id_2)\n",
    "            if flag\n",
    "                break\n",
    "            end\n",
    "        end\n",
    "        if flag\n",
    "            break\n",
    "        end\n",
    "    end\n",
    "end"
   ]
  },
  {
   "cell_type": "code",
   "execution_count": 262,
   "metadata": {},
   "outputs": [],
   "source": [
    "# Read file in to list of strings\n",
    "m = readdlm(\"puzzle_1_input.txt\");\n",
    "m = reshape(m, size(m,1));"
   ]
  },
  {
   "cell_type": "code",
   "execution_count": 263,
   "metadata": {},
   "outputs": [
    {
     "name": "stdout",
     "output_type": "stream",
     "text": [
      "Checksum: 7105"
     ]
    }
   ],
   "source": [
    "good_box_indices = puzzle_1(m)"
   ]
  },
  {
   "cell_type": "code",
   "execution_count": 264,
   "metadata": {},
   "outputs": [
    {
     "name": "stdout",
     "output_type": "stream",
     "text": [
      "CORRECT BOXES\n",
      "ID_1: omlvgdokxfncvqyersasjwziup, ID_2: omlvgdokxfncvqyersasjlziup, INDEX: 22\n",
      "Answer: omlvgdokxfncvqyersasjziup"
     ]
    }
   ],
   "source": [
    "puzzle_2(m)"
   ]
  },
  {
   "cell_type": "code",
   "execution_count": null,
   "metadata": {},
   "outputs": [],
   "source": []
  }
 ],
 "metadata": {
  "kernelspec": {
   "display_name": "Julia 1.0.1",
   "language": "julia",
   "name": "julia-1.0"
  },
  "language_info": {
   "file_extension": ".jl",
   "mimetype": "application/julia",
   "name": "julia",
   "version": "1.0.1"
  }
 },
 "nbformat": 4,
 "nbformat_minor": 2
}
