{
 "cells": [
  {
   "cell_type": "code",
   "execution_count": 1,
   "metadata": {},
   "outputs": [],
   "source": [
    "using DelimitedFiles\n",
    "using SparseArrays"
   ]
  },
  {
   "cell_type": "code",
   "execution_count": 2,
   "metadata": {},
   "outputs": [],
   "source": [
    "# Create a struct for a claim\n",
    "struct Claim\n",
    "    ID::Int\n",
    "    X::Int\n",
    "    Y::Int\n",
    "    W::Int\n",
    "    H::Int\n",
    "end"
   ]
  },
  {
   "cell_type": "code",
   "execution_count": 3,
   "metadata": {},
   "outputs": [
    {
     "data": {
      "text/plain": [
       "get_claim_list (generic function with 1 method)"
      ]
     },
     "execution_count": 3,
     "metadata": {},
     "output_type": "execute_result"
    }
   ],
   "source": [
    "function get_claim_list(m)\n",
    "    claim_list = Claim[];\n",
    "    for i=1:size(m,1)\n",
    "        id = parse(Int, split(m[i,1], \"#\")[end])\n",
    "        x = parse(Int, split(m[i,3], r\",|:\")[1])\n",
    "        y = parse(Int, split(m[i,3], r\",|:\")[2])\n",
    "        width = parse(Int, split(m[i,4], \"x\")[1])\n",
    "        height = parse(Int, split(m[i,4], \"x\")[2])\n",
    "        push!(claim_list, Claim(id, x, y, width, height))\n",
    "    end\n",
    "    return claim_list\n",
    "end"
   ]
  },
  {
   "cell_type": "code",
   "execution_count": 4,
   "metadata": {},
   "outputs": [
    {
     "data": {
      "text/plain": [
       "make_sparse_array (generic function with 1 method)"
      ]
     },
     "execution_count": 4,
     "metadata": {},
     "output_type": "execute_result"
    }
   ],
   "source": [
    "function make_sparse_array(claim_list)\n",
    "    x_indices = []\n",
    "    y_indices = []\n",
    "    values = []\n",
    "    for claim in claim_list\n",
    "        x_start = 1 + claim.X\n",
    "        x_end = claim.X + claim.W\n",
    "        y_start = 1 + claim.Y\n",
    "        y_end = claim.Y + claim.H\n",
    "        for x = x_start:x_end\n",
    "            for y = y_start:y_end\n",
    "                push!(x_indices, x)\n",
    "                push!(y_indices, y)\n",
    "                push!(values, [claim.ID])\n",
    "            end\n",
    "        end\n",
    "    end\n",
    "    A = sparse(x_indices, y_indices, values, \n",
    "        maximum(x_indices), maximum(y_indices), vcat)\n",
    "    return A\n",
    "end"
   ]
  },
  {
   "cell_type": "code",
   "execution_count": 5,
   "metadata": {},
   "outputs": [
    {
     "data": {
      "text/plain": [
       "puzzle_1 (generic function with 1 method)"
      ]
     },
     "execution_count": 5,
     "metadata": {},
     "output_type": "execute_result"
    }
   ],
   "source": [
    "function puzzle_1(filename)\n",
    "    m = readdlm(filename);\n",
    "    claim_list = get_claim_list(m)\n",
    "    A = make_sparse_array(claim_list);\n",
    "    print(\"Square inches of overlap: \",count(x->length(x)>1, A.nzval), \"\\n\")\n",
    "    return size(claim_list, 1), A\n",
    "end"
   ]
  },
  {
   "cell_type": "code",
   "execution_count": 6,
   "metadata": {},
   "outputs": [
    {
     "data": {
      "text/plain": [
       "puzzle_2 (generic function with 1 method)"
      ]
     },
     "execution_count": 6,
     "metadata": {},
     "output_type": "execute_result"
    }
   ],
   "source": [
    "function puzzle_2(A, num_claims)\n",
    "    invalid_ids = [];\n",
    "    for i = 1:length(A.nzval)\n",
    "        id_list = A.nzval[i]\n",
    "        if length(id_list) > 1\n",
    "            for id in id_list\n",
    "                push!(invalid_ids, id)\n",
    "            end\n",
    "        end\n",
    "    end\n",
    "    for id = 1:num_claims\n",
    "        if !any(x->x==id, invalid_ids)\n",
    "            print(\"\\nValid ID: \", id)\n",
    "        end\n",
    "    end\n",
    "end"
   ]
  },
  {
   "cell_type": "code",
   "execution_count": 7,
   "metadata": {},
   "outputs": [
    {
     "name": "stdout",
     "output_type": "stream",
     "text": [
      "Square inches of overlap: 110891\n",
      "\n",
      "Valid ID: 297"
     ]
    }
   ],
   "source": [
    "num_claims, A = puzzle_1(\"input.txt\");\n",
    "puzzle_2(A, num_claims)"
   ]
  },
  {
   "cell_type": "code",
   "execution_count": null,
   "metadata": {},
   "outputs": [],
   "source": []
  }
 ],
 "metadata": {
  "kernelspec": {
   "display_name": "Julia 1.0.1",
   "language": "julia",
   "name": "julia-1.0"
  },
  "language_info": {
   "file_extension": ".jl",
   "mimetype": "application/julia",
   "name": "julia",
   "version": "1.0.1"
  }
 },
 "nbformat": 4,
 "nbformat_minor": 2
}
