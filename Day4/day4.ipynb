{
 "cells": [
  {
   "cell_type": "code",
   "execution_count": 1,
   "metadata": {},
   "outputs": [],
   "source": [
    "using DelimitedFiles"
   ]
  },
  {
   "cell_type": "code",
   "execution_count": 2,
   "metadata": {},
   "outputs": [],
   "source": [
    "mutable struct Guard\n",
    "    ID\n",
    "    M_Sleep    \n",
    "end"
   ]
  },
  {
   "cell_type": "code",
   "execution_count": 3,
   "metadata": {},
   "outputs": [
    {
     "data": {
      "text/plain": [
       "fill_in_guards (generic function with 1 method)"
      ]
     },
     "execution_count": 3,
     "metadata": {},
     "output_type": "execute_result"
    }
   ],
   "source": [
    "function fill_in_guards(dict)\n",
    "    current_guard = 0\n",
    "    for entry in dict\n",
    "        if entry[2][1] != 0\n",
    "            current_guard = entry[2][1]\n",
    "        else\n",
    "            entry[2][1] = current_guard\n",
    "        end\n",
    "    end\n",
    "    return dict\n",
    "end"
   ]
  },
  {
   "cell_type": "code",
   "execution_count": 4,
   "metadata": {},
   "outputs": [
    {
     "data": {
      "text/plain": [
       "get_entry_dict (generic function with 1 method)"
      ]
     },
     "execution_count": 4,
     "metadata": {},
     "output_type": "execute_result"
    }
   ],
   "source": [
    "function get_entry_dict(m)\n",
    "    entry_dict = Dict()\n",
    "    for i = 1:size(m,1)\n",
    "        year, month, day = split(m[i,1], r\"-|\\[\")[2:4]\n",
    "        hour, minute = split(m[i,2], r\":|\\]\")[1:2]\n",
    "        action = m[i,3]\n",
    "        if action == \"Guard\"\n",
    "            guard = split(m[i,4], r\"#\")[2]\n",
    "            action = \"begins\"\n",
    "        else\n",
    "            guard = \"0\"\n",
    "        end\n",
    "        \n",
    "        timestamp = [year, month, day, hour*minute]\n",
    "        info = [parse(Int, guard), action]\n",
    "        entry_dict[timestamp] = info\n",
    "        \n",
    "    end\n",
    "    sorted_dict = sort(collect(entry_dict),  by=x->x[1])\n",
    "    final_dict = fill_in_guards(sorted_dict)\n",
    "    return final_dict\n",
    "end"
   ]
  },
  {
   "cell_type": "code",
   "execution_count": 5,
   "metadata": {},
   "outputs": [
    {
     "data": {
      "text/plain": [
       "get_guards (generic function with 1 method)"
      ]
     },
     "execution_count": 5,
     "metadata": {},
     "output_type": "execute_result"
    }
   ],
   "source": [
    "function get_guards(entries)\n",
    "    guards = []\n",
    "    for i = 1:length(entries)\n",
    "        info = entries[i][2]\n",
    "        time = entries[i][1]\n",
    "        if info[2] == \"wakes\"\n",
    "            minutes = []\n",
    "            sleep_start = parse(Int, entries[i-1][1][4])\n",
    "            sleep_end = parse(Int, time[4])\n",
    "            for i = sleep_start:(sleep_end - 1)\n",
    "                push!(minutes, i)\n",
    "            end\n",
    "            flag = false\n",
    "            for guard in guards\n",
    "                if guard.ID == info[1]\n",
    "                    flag = true\n",
    "                    guard.M_Sleep = vcat(guard.M_Sleep, minutes)\n",
    "                    break\n",
    "                end\n",
    "            end\n",
    "            if !flag\n",
    "                push!(guards, Guard(info[1], minutes))\n",
    "            end\n",
    "        end\n",
    "    end\n",
    "    return guards\n",
    "end"
   ]
  },
  {
   "cell_type": "code",
   "execution_count": 6,
   "metadata": {},
   "outputs": [
    {
     "data": {
      "text/plain": [
       "puzzle_1 (generic function with 1 method)"
      ]
     },
     "execution_count": 6,
     "metadata": {},
     "output_type": "execute_result"
    }
   ],
   "source": [
    "function puzzle_1(guards)\n",
    "    longest = 0\n",
    "    target = 0\n",
    "    for guard in guards\n",
    "        if length(guard.M_Sleep) > longest\n",
    "            longest = length(guard.M_Sleep)\n",
    "            target = guard\n",
    "        end\n",
    "    end\n",
    "    print(\"Target ID: \", target.ID)\n",
    "    target_minute = 0\n",
    "    most_hits = 0\n",
    "    unique_minutes = unique(collect(target.M_Sleep))\n",
    "    for minute in unique_minutes\n",
    "        hits = count(x->x==minute, target.M_Sleep)\n",
    "        if hits > most_hits\n",
    "            most_hits = hits\n",
    "            target_minute = minute\n",
    "        end\n",
    "    end\n",
    "    print(\"\\nTarget Minute: \",target_minute)\n",
    "    answer = target.ID * target_minute\n",
    "    print(\"\\nAnswer: \", answer)\n",
    "end"
   ]
  },
  {
   "cell_type": "code",
   "execution_count": 7,
   "metadata": {},
   "outputs": [
    {
     "data": {
      "text/plain": [
       "puzzle_2 (generic function with 1 method)"
      ]
     },
     "execution_count": 7,
     "metadata": {},
     "output_type": "execute_result"
    }
   ],
   "source": [
    "function puzzle_2(guards)\n",
    "    most_hits = 0\n",
    "    target_minute = 0\n",
    "    target = 0\n",
    "    for guard in guards\n",
    "        unique_minutes = unique(collect(guard.M_Sleep))\n",
    "        for minute in unique_minutes\n",
    "            hits = count(x->x==minute, guard.M_Sleep)\n",
    "            if hits > most_hits\n",
    "                most_hits = hits\n",
    "                target_minute = minute\n",
    "                target = guard.ID\n",
    "            end\n",
    "        end\n",
    "    end\n",
    "    print(\"\\nTarget ID: \", target)\n",
    "    print(\"\\nTarget Minute: \",target_minute)\n",
    "    answer = target * target_minute\n",
    "    print(\"\\nAnswer: \", answer)\n",
    "end"
   ]
  },
  {
   "cell_type": "code",
   "execution_count": 8,
   "metadata": {},
   "outputs": [
    {
     "name": "stdout",
     "output_type": "stream",
     "text": [
      "PUZZLE #1:\n",
      "Target ID: 2917\n",
      "Target Minute: 25\n",
      "Answer: 72925\n",
      "PUZZLE #2:\n",
      "Target ID: 1489\n",
      "Target Minute: 33\n",
      "Answer: 49137"
     ]
    }
   ],
   "source": [
    "m = readdlm(\"input.txt\");\n",
    "entries = get_entry_dict(m);\n",
    "guards = get_guards(entries)\n",
    "print(\"PUZZLE #1:\\n\")\n",
    "puzzle_1(guards)\n",
    "print(\"\\nPUZZLE #2:\")\n",
    "puzzle_2(guards)"
   ]
  },
  {
   "cell_type": "code",
   "execution_count": null,
   "metadata": {},
   "outputs": [],
   "source": []
  }
 ],
 "metadata": {
  "kernelspec": {
   "display_name": "Julia 1.0.1",
   "language": "julia",
   "name": "julia-1.0"
  },
  "language_info": {
   "file_extension": ".jl",
   "mimetype": "application/julia",
   "name": "julia",
   "version": "1.0.1"
  }
 },
 "nbformat": 4,
 "nbformat_minor": 2
}
