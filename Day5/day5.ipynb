{
 "cells": [
  {
   "cell_type": "code",
   "execution_count": 58,
   "metadata": {},
   "outputs": [],
   "source": [
    "using DelimitedFiles"
   ]
  },
  {
   "cell_type": "code",
   "execution_count": 59,
   "metadata": {},
   "outputs": [
    {
     "data": {
      "text/plain": [
       "match_char (generic function with 1 method)"
      ]
     },
     "execution_count": 59,
     "metadata": {},
     "output_type": "execute_result"
    }
   ],
   "source": [
    "function match_char(char_1, char_2)\n",
    "    if abs(Int(char_1) - Int(char_2)) == 32\n",
    "        return true\n",
    "    else\n",
    "        return false\n",
    "    end\n",
    "end"
   ]
  },
  {
   "cell_type": "code",
   "execution_count": 78,
   "metadata": {},
   "outputs": [
    {
     "data": {
      "text/plain": [
       "puzzle_1 (generic function with 1 method)"
      ]
     },
     "execution_count": 78,
     "metadata": {},
     "output_type": "execute_result"
    }
   ],
   "source": [
    "function puzzle_1(m)\n",
    "    while true\n",
    "        state = m\n",
    "        for i = 1:(length(m)-1)\n",
    "            if match_char(m[i], m[i+1])\n",
    "                m = m[1:i-1] * m[i+2:end]\n",
    "                break\n",
    "            end\n",
    "        end\n",
    "        if state == m\n",
    "            break\n",
    "        end\n",
    "    end\n",
    "    return length(m)\n",
    "end"
   ]
  },
  {
   "cell_type": "code",
   "execution_count": 97,
   "metadata": {},
   "outputs": [
    {
     "data": {
      "text/plain": [
       "remove_letter (generic function with 1 method)"
      ]
     },
     "execution_count": 97,
     "metadata": {},
     "output_type": "execute_result"
    }
   ],
   "source": [
    "# Remove all instances of a letter\n",
    "function remove_letter(m, rem_l)\n",
    "    new_m = m\n",
    "    rem_u= Char(Int(rem_l) - 32)\n",
    "    while true\n",
    "        state = new_m\n",
    "        for i = 1:length(new_m)\n",
    "            if new_m[i] == rem_l || new_m[i] == rem_u\n",
    "                # Remove letter\n",
    "                if i == length(new_m)\n",
    "                    new_m = new_m[1:i-1]\n",
    "                else\n",
    "                    new_m = new_m[1:i-1] * new_m[i+1:end]\n",
    "                end\n",
    "                break\n",
    "            end\n",
    "        end\n",
    "        \n",
    "        if state == new_m\n",
    "            break\n",
    "        end\n",
    "    end\n",
    "    return new_m\n",
    "end"
   ]
  },
  {
   "cell_type": "code",
   "execution_count": 109,
   "metadata": {},
   "outputs": [
    {
     "data": {
      "text/plain": [
       "puzzle_2 (generic function with 1 method)"
      ]
     },
     "execution_count": 109,
     "metadata": {},
     "output_type": "execute_result"
    }
   ],
   "source": [
    "function puzzle_2(m, p1_answer)\n",
    "    shortest = p1_answer\n",
    "    for rem = 'a':'z'\n",
    "        #Remove letter\n",
    "        new_m = remove_letter(m, rem)\n",
    "        #Run puzzle 1\n",
    "        new_answer = puzzle_1(new_m)\n",
    "    \n",
    "        #compare answer\n",
    "        if new_answer < shortest\n",
    "            shortest = new_answer\n",
    "        end\n",
    "    end\n",
    "    return shortest\n",
    "end"
   ]
  },
  {
   "cell_type": "code",
   "execution_count": 113,
   "metadata": {},
   "outputs": [
    {
     "name": "stdout",
     "output_type": "stream",
     "text": [
      "Puzzle 1 Answer: 11814\n",
      "Puzzle 2 Answer: 4282"
     ]
    }
   ],
   "source": [
    "m = readdlm(\"input.txt\")[1];\n",
    "puzzle_1_in = m;\n",
    "puzzle_2_in = m;\n",
    "p1_answer = puzzle_1(puzzle_1_in)\n",
    "print(\"Puzzle 1 Answer: \", p1_answer)\n",
    "p2_answer = puzzle_2(puzzle_2_in, p1_answer)\n",
    "print(\"\\nPuzzle 2 Answer: \", p2_answer)"
   ]
  },
  {
   "cell_type": "code",
   "execution_count": null,
   "metadata": {},
   "outputs": [],
   "source": []
  }
 ],
 "metadata": {
  "kernelspec": {
   "display_name": "Julia 1.0.1",
   "language": "julia",
   "name": "julia-1.0"
  },
  "language_info": {
   "file_extension": ".jl",
   "mimetype": "application/julia",
   "name": "julia",
   "version": "1.0.1"
  }
 },
 "nbformat": 4,
 "nbformat_minor": 2
}
